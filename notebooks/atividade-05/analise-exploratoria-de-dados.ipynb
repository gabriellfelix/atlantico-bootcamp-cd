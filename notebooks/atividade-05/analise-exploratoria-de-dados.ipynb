{
 "cells": [
  {
   "cell_type": "markdown",
   "id": "79035fa6-46cf-4a72-bea6-aec714147fe2",
   "metadata": {},
   "source": [
    "# Atividade 05: Estatística descritiva e Visualização de dados\n",
    "# Automobile Dataset"
   ]
  },
  {
   "cell_type": "markdown",
   "id": "3f07d74b-cc75-4a1a-adad-b7e9c12f3a2d",
   "metadata": {
    "tags": []
   },
   "source": [
    "## Descrição de Dados:"
   ]
  },
  {
   "cell_type": "markdown",
   "id": "17b1ec8e-6263-45e3-957c-ef9809755c79",
   "metadata": {},
   "source": [
    "- Quantidade de Intâncias: 205"
   ]
  },
  {
   "cell_type": "markdown",
   "id": "3b8a11fb-6eca-43d8-950b-d11feb6d0911",
   "metadata": {},
   "source": [
    "- Variáveis:\n",
    "    - \"symboling\": int64 - 0 Valores Faltantes\n",
    "    - \"normalized-losses\": object - 41 Valores Faltantes\n",
    "    - \"make\": object - 0 Valores Faltantes\n",
    "    - \"fuel-type\": object - 0 Valores Faltantes\n",
    "    - \"aspiration\": object - 0 Valores Faltantes\n",
    "    - \"num-of-doors\": object - 0 Valores Faltantes\n",
    "    - \"body-style: object - 0 Valores Faltantes\n",
    "    - \"drive-wheels\": object - 0 Valores Faltantes\n",
    "    - \"engine-location\": object - 0 Valores Faltantes\n",
    "    - \"wheel-base\": float64 - 0 Valores Faltantes\n",
    "    - \"lenght\":float64 - 0 Valores Faltantes\n",
    "    - \"width\": float64 - 0 Valores Faltantes\n",
    "    - \"height\":float64 - 0 Valores Faltantes\n",
    "    - \"curb-weight\": int64 - 0 Valores Faltantes\n",
    "    - \"engine-type\": object - 0 Valores Faltantes\n",
    "    - \"num-of-cylinders\": object - 0 Valores Faltantes\n",
    "    - \"engine-size\": int64 - 0 Valores Faltantes\n",
    "    - \"fuel-system\": object - 0 Valores Faltantes\n",
    "    - \"bore\": object - 0 Valores Faltantes\n",
    "    - \"stroke\": object - 0 Valores Faltantes\n",
    "    - \"compression-ratio\": float64 - 0 Valores Faltantes\n",
    "    - \"horsepower\": object - 0 Valores Faltantes\n",
    "    - \"peak-rpm\": object - 0 Valores Faltantes\n",
    "    - \"city-mpg\": int64 - 0 Valores Faltantes\n",
    "    - \"highway-mpg\": int64 - 0 Valores Faltantes\n",
    "    - \"price\": object - 4 Valores Faltantes"
   ]
  },
  {
   "cell_type": "markdown",
   "id": "13cf59f8-7ac1-4fdc-af3b-16e03c728a3a",
   "metadata": {},
   "source": [
    "## Perguntas de Partida de Hipóteses:"
   ]
  },
  {
   "cell_type": "markdown",
   "id": "fb7aa7ba-482b-41eb-af94-5e1b8fd2acc1",
   "metadata": {},
   "source": [
    "1. Quais as 3 montadoras que possuem carros com maior valor de mercado?\n",
    "2. Qual o valor médio aproximado dos carros da Volkswagem?\n",
    "2. Qual tipo de combustível que os veículos de menor valor utilizam, em média?\n",
    "3. Qual estilo de carroceria tem menor amplitude de valor de veículos?\n",
    "4. Qual o valor médio aproximado dos veículos de carroceria sedan?\n",
    "5. Qual localização de motor possui o grupo de veículos que tem menor amplitude de valor entre si?\n",
    "6. Qual o valor médio aproximado dos veículos de motorização dianteira?\n",
    "7. Quantos cilindros possui o segundo maior grupo de veículos, quando divididos pela quantidade de cilindros?\n",
    "8. Quantos cavalos de potência possui o segundo maior grupo de veículos, quando divididos pelo número de cavalos de potência?"
   ]
  },
  {
   "cell_type": "markdown",
   "id": "4e754977-876d-4b7d-9985-2428840531a8",
   "metadata": {},
   "source": [
    "## Insights: "
   ]
  },
  {
   "cell_type": "markdown",
   "id": "c722f904-9797-40b6-9bfb-b350ece0273b",
   "metadata": {},
   "source": [
    "1. As 3 montadoras que possuem carros com maior valor de mercado são: Jaguar, Mercedes-Benz e Porsche, respectivamente.\n",
    "2. O valor médio aproximado dos carros da Volkswagem é de 10.000 dólares.\n",
    "3. O tipo de combustível que os veículos de menor valor utilizam é a Gasolina.\n",
    "4. O estilo de carroceria que possui menor amplitude de valor de veículos é o Wagon.\n",
    "5. O valor médio aproximado dos veículos de carroceria sedan é de 11.000 dólares.\n",
    "6. A localização de motor dos veículos que possuem menor amplitude de valor entre si é a traseira.\n",
    "7. O valor médio aproximado dos veículos de motorização dianteira é de 10.000 dólares.\n",
    "8. O segundo maior grupo de veículos, quando divididos pela quantidade de cilindros, é o de veículos que possuem seis cilindros.\n",
    "9. O segundo maior grupo de veículos, quando divididos pela quantidade de cavalos de potência, é o de veículos que possuem 70 Cavalos de Potência."
   ]
  },
  {
   "cell_type": "code",
   "execution_count": null,
   "id": "35403dc3-3f2a-429d-90d1-80285b9e7a3a",
   "metadata": {},
   "outputs": [],
   "source": []
  }
 ],
 "metadata": {
  "kernelspec": {
   "display_name": "Python 3 (ipykernel)",
   "language": "python",
   "name": "python3"
  },
  "language_info": {
   "codemirror_mode": {
    "name": "ipython",
    "version": 3
   },
   "file_extension": ".py",
   "mimetype": "text/x-python",
   "name": "python",
   "nbconvert_exporter": "python",
   "pygments_lexer": "ipython3",
   "version": "3.8.10"
  }
 },
 "nbformat": 4,
 "nbformat_minor": 5
}
