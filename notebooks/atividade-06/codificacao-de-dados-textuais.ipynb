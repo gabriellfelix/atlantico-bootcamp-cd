{
 "cells": [
  {
   "cell_type": "markdown",
   "id": "fe01e5fe-79cc-4b3e-a2d4-430be9c4ad57",
   "metadata": {},
   "source": [
    "# Codificação de Variáveis Textuais"
   ]
  },
  {
   "cell_type": "code",
   "execution_count": null,
   "id": "5ae8afa5-9a38-4cac-9ee7-a6f5ac373268",
   "metadata": {},
   "outputs": [],
   "source": []
  },
  {
   "cell_type": "markdown",
   "id": "59882578-7de9-4312-8186-b5e1b2a5a54d",
   "metadata": {},
   "source": [
    "## Motivação"
   ]
  },
  {
   "cell_type": "markdown",
   "id": "5ad54b48-2e72-46f4-bd54-9f077cf1ac82",
   "metadata": {},
   "source": [
    "A codificação de variáveis textuais consiste na transformação de um conjunto de elementos textuais em um conjunto de dados organizado sob um determinado aspecto, sendo, portanto, um importante instrumento para o processamento de linguagem natural e para a recuperação de informações.\n",
    "Um exemplo de aplicação prática da codificação de variáveis textuais é a filtragem de e-mais de spam, que pode ser realizada a partir da identificação de padrões de dados relacionados a palavras em e-mails dessa natureza."
   ]
  },
  {
   "cell_type": "markdown",
   "id": "9107d600-7c19-4890-b363-7913f1864864",
   "metadata": {},
   "source": [
    "Há dois principais tipos de codificação:"
   ]
  },
  {
   "cell_type": "markdown",
   "id": "f5a83288-fec3-48c1-93e9-978f48eacd40",
   "metadata": {},
   "source": [
    "- ### Bag-of-Words"
   ]
  },
  {
   "cell_type": "markdown",
   "id": "4935e1bc-d0b7-4397-93ea-199066986406",
   "metadata": {},
   "source": [
    "Nesse modelo, o texto é representado como uma bolsa (Bag) de suas palavras (Words), desconsiderando aspectos gramaticais e a ordem em que elas são apresentadas, mas mantendo a multiplicidade (número de observações). Nesse sentido, essa técnica é altamente eficaz para o treinamento de modelos classificadores, uma vez que a informação sobre a frequência de cada palavra é obtida facilmente. "
   ]
  },
  {
   "cell_type": "markdown",
   "id": "85346da4-05e7-4d8b-99f7-f8d4460b96d2",
   "metadata": {},
   "source": [
    "Na prática, esse modelo é usado, principalmente, como ferramenta de geração de atributos, uma vez que, após a quebra do texto em palavras, pode-se calcular vários parâmetros para caracterizá-lo."
   ]
  },
  {
   "cell_type": "markdown",
   "id": "d384cbc3-ad16-4fd5-91ed-b599b33bdfbc",
   "metadata": {},
   "source": [
    "- ### Tf-Idf"
   ]
  },
  {
   "cell_type": "markdown",
   "id": "92e6bc0a-1436-4d85-9b22-884cd4d3aca2",
   "metadata": {},
   "source": [
    "No modelo de codificação Termo Frequency-Inverse Document Frequency (Tf-Idf), é utilizada uma estatística numérica para estimar a importância de uma palavra para um texto que pertence a uma coleção, sendo esse modelo frequentemente utilizado como fator de ponderação em recuperação de informações e mineração de texto. Essa estatística baseia-se na relação entre a frequência da palavra no texto e o número de textos que contém a palavra, o que ajuda a compensar o fato de algumas palavras aparecerem com bastante frequência na grande maioria dos textos."
   ]
  },
  {
   "cell_type": "markdown",
   "id": "a8e6b7eb-d564-4020-af5e-4b88b17225b1",
   "metadata": {},
   "source": [
    "Na prática, esse modelo é usado, principalmente, por mecanismos de pesquisa como uma ferramenta para pontuação e classificação da relevância de um documento para uma determinada consulta."
   ]
  },
  {
   "cell_type": "markdown",
   "id": "76b7839a-ed6b-4c75-acae-c1563338385f",
   "metadata": {},
   "source": [
    "---"
   ]
  },
  {
   "cell_type": "code",
   "execution_count": null,
   "id": "9a70b6a4-d02f-4a62-a4b2-88cc1b05ad99",
   "metadata": {},
   "outputs": [],
   "source": []
  }
 ],
 "metadata": {
  "kernelspec": {
   "display_name": "Python 3 (ipykernel)",
   "language": "python",
   "name": "python3"
  },
  "language_info": {
   "codemirror_mode": {
    "name": "ipython",
    "version": 3
   },
   "file_extension": ".py",
   "mimetype": "text/x-python",
   "name": "python",
   "nbconvert_exporter": "python",
   "pygments_lexer": "ipython3",
   "version": "3.8.10"
  }
 },
 "nbformat": 4,
 "nbformat_minor": 5
}
