{
 "cells": [
  {
   "cell_type": "markdown",
   "id": "e86c6acc-7d1d-49b9-a529-c5b45bae9e2e",
   "metadata": {},
   "source": [
    "GRÁFICO DE BARRAS HORIZONTAIS DA ARRECADAÇÃO (EM MILHÕES DE DÓLARES) DE FILMES "
   ]
  },
  {
   "cell_type": "code",
   "execution_count": 3,
   "id": "439a2c82-0f31-4a5b-802d-35a857b92ab5",
   "metadata": {},
   "outputs": [],
   "source": [
    "# Importação de Bibliotecas\n",
    "from matplotlib import pyplot as plt\n",
    "import seaborn as sns\n",
    "import pandas as pd"
   ]
  },
  {
   "cell_type": "code",
   "execution_count": 14,
   "id": "c431d7a3-0781-47a3-819a-1b8b829c0f9a",
   "metadata": {},
   "outputs": [
    {
     "data": {
      "text/html": [
       "<div>\n",
       "<style scoped>\n",
       "    .dataframe tbody tr th:only-of-type {\n",
       "        vertical-align: middle;\n",
       "    }\n",
       "\n",
       "    .dataframe tbody tr th {\n",
       "        vertical-align: top;\n",
       "    }\n",
       "\n",
       "    .dataframe thead th {\n",
       "        text-align: right;\n",
       "    }\n",
       "</style>\n",
       "<table border=\"1\" class=\"dataframe\">\n",
       "  <thead>\n",
       "    <tr style=\"text-align: right;\">\n",
       "      <th></th>\n",
       "      <th>arrecadacao</th>\n",
       "      <th>titulo</th>\n",
       "    </tr>\n",
       "  </thead>\n",
       "  <tbody>\n",
       "    <tr>\n",
       "      <th>0</th>\n",
       "      <td>7316746</td>\n",
       "      <td>Ferdinand</td>\n",
       "    </tr>\n",
       "    <tr>\n",
       "      <th>1</th>\n",
       "      <td>36169328</td>\n",
       "      <td>Jumanji: Welcome to the Jungle</td>\n",
       "    </tr>\n",
       "    <tr>\n",
       "      <th>2</th>\n",
       "      <td>19928525</td>\n",
       "      <td>Pitch Perfect 3</td>\n",
       "    </tr>\n",
       "    <tr>\n",
       "      <th>3</th>\n",
       "      <td>71565498</td>\n",
       "      <td>Star Wars: The Last Jedi</td>\n",
       "    </tr>\n",
       "    <tr>\n",
       "      <th>4</th>\n",
       "      <td>8805843</td>\n",
       "      <td>The Greatest Showman</td>\n",
       "    </tr>\n",
       "  </tbody>\n",
       "</table>\n",
       "</div>"
      ],
      "text/plain": [
       "   arrecadacao                          titulo\n",
       "0      7316746                       Ferdinand\n",
       "1     36169328  Jumanji: Welcome to the Jungle\n",
       "2     19928525                 Pitch Perfect 3\n",
       "3     71565498        Star Wars: The Last Jedi\n",
       "4      8805843            The Greatest Showman"
      ]
     },
     "execution_count": 14,
     "metadata": {},
     "output_type": "execute_result"
    }
   ],
   "source": [
    "# Importação do Conjunto de Dados\n",
    "df = pd.read_csv('https://gist.githubusercontent.com/omadson/770934cb0df9e2d2c3e8db031f1139a5/raw/4d181efc035b327d9d66256915951384517c603e/arrecadacao.csv')\n",
    "df.head() # Retorna (exibe) a quantidade de linhas passadas como parâmetro"
   ]
  },
  {
   "cell_type": "code",
   "execution_count": 15,
   "id": "0bfe965d-bd82-4026-8851-684aa2538651",
   "metadata": {},
   "outputs": [],
   "source": [
    "df = df.assign(arrecadacao_milhao = df.arrecadacao / 1000000) # Adiciona a coluna \"arrecadacao_milhao\" ao dataset, atribuindo a ela os valores, em milhão, da coluna \"arrecadacao\"\n",
    "df = df.sort_values(by='arrecadacao', ascending=False) # Ordena as barras, de forma descendente, pelo valor da coluna \"arrecadacao\" \n",
    "sns.set_style(\"whitegrid\") # Adiciona um grid branco ao gráfico"
   ]
  },
  {
   "cell_type": "code",
   "execution_count": 17,
   "id": "431d3716-7b0d-4077-8021-5b953c86d2ad",
   "metadata": {},
   "outputs": [
    {
     "data": {
      "image/png": "[encoded data removed]",
      "text/plain": [
       "<Figure size 360x144 with 1 Axes>"
      ]
     },
     "metadata": {},
     "output_type": "display_data"
    }
   ],
   "source": [
    "plt.figure(figsize=(5, 2)) # Redimensiona o Gráfico para 5x2 polegadas\n",
    "\n",
    "ax = sns.barplot(data=df, x='arrecadacao_milhao', y='titulo', color='tomato') # Plota o gráfico com os dados lidos na entrada, atribuindo a cada eixo uma coluna e à barra a cor escolhida\n",
    "\n",
    "ax.bar_label(\n",
    "    ax.containers[0],\n",
    "    fmt='%.1f',\n",
    "    label_type='center',\n",
    "    color='white'\n",
    ") # Adiciona os valores, como os da coluna \"arrecadacao\", os valores de cada barra, como pontos flutuantes de uma casa decimal, ao centro e com a cor da fonte branca\n",
    "\n",
    "# Atribui os valores dos elementos textuais do gráfico\n",
    "plt.xlabel('Arrecadação (Milhões de Dólares)')\n",
    "plt.ylabel('Filme')\n",
    "plt.title('Arrecadação (em milhões de dólares) de Filmes')\n",
    "\n",
    "ax.set(frame_on=False) # Remove a borda externa do gráfico\n",
    "ax.axvline(0, color='k', clip_on=False) # Adiciona uma linha à esquerda das barras\n",
    "plt.show() # Exibe o gráfico"
   ]
  }
 ],
 "metadata": {
  "kernelspec": {
   "display_name": "Python 3 (ipykernel)",
   "language": "python",
   "name": "python3"
  },
  "language_info": {
   "codemirror_mode": {
    "name": "ipython",
    "version": 3
   },
   "file_extension": ".py",
   "mimetype": "text/x-python",
   "name": "python",
   "nbconvert_exporter": "python",
   "pygments_lexer": "ipython3",
   "version": "3.8.10"
  }
 },
 "nbformat": 4,
 "nbformat_minor": 5
}
